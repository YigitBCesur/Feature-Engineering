{
  "cells": [
    {
      "cell_type": "markdown",
      "metadata": {
        "id": "view-in-github",
        "colab_type": "text"
      },
      "source": [
        "<a href=\"https://colab.research.google.com/github/YigitBCesur/Feature-Engineering/blob/main/Feature_Engineering_2_2.ipynb\" target=\"_parent\"><img src=\"https://colab.research.google.com/assets/colab-badge.svg\" alt=\"Open In Colab\"/></a>"
      ]
    },
    {
      "cell_type": "markdown",
      "metadata": {
        "id": "vr_wxal66c35"
      },
      "source": [
        "<h2 align='center' style='color:blue'>Exercise: Outlier removal using standard deviation and z score<h2>"
      ]
    },
    {
      "cell_type": "markdown",
      "metadata": {
        "id": "pbfUFJqT6c38"
      },
      "source": [
        "You are given bhp.csv which contains property prices in the city of banglore, India. You need to examine price_per_sqft column and do following,\n",
        "\n",
        "(1) Remove outliers using percentile technique first. Use [0.001, 0.999] for lower and upper bound percentiles\n",
        "\n",
        "(2) After removing outliers in step 1, you get a new dataframe. \n",
        "\n",
        "(3) On step(2) dataframe, use 4 standard deviation to remove outliers\n",
        "\n",
        "(4) Plot histogram for new dataframe that is generated after step (3). Also plot bell curve on same histogram\n",
        "\n",
        "(5) On step(2) dataframe, use zscore of 4 to remove outliers. This is quite similar to step (3) and you will get exact same result"
      ]
    },
    {
      "cell_type": "code",
      "execution_count": 1,
      "metadata": {
        "id": "iHtqzJ0G6c39"
      },
      "outputs": [],
      "source": [
        "import pandas as pd\n",
        "import matplotlib\n",
        "from matplotlib import pyplot as plt\n",
        "%matplotlib inline\n",
        "matplotlib.rcParams['figure.figsize'] = (12,8)"
      ]
    },
    {
      "cell_type": "code",
      "source": [
        "from google.colab import files\n",
        "\n",
        "uploaded = files.upload()"
      ],
      "metadata": {
        "colab": {
          "base_uri": "https://localhost:8080/",
          "height": 74
        },
        "id": "_vYBhQeG7ED9",
        "outputId": "dbcf5462-1c76-4b39-dc28-ac8b8a3b646b"
      },
      "execution_count": 2,
      "outputs": [
        {
          "output_type": "display_data",
          "data": {
            "text/plain": [
              "<IPython.core.display.HTML object>"
            ],
            "text/html": [
              "\n",
              "     <input type=\"file\" id=\"files-ed719b6f-1f6b-4b8d-a9ff-901173cdac8f\" name=\"files[]\" multiple disabled\n",
              "        style=\"border:none\" />\n",
              "     <output id=\"result-ed719b6f-1f6b-4b8d-a9ff-901173cdac8f\">\n",
              "      Upload widget is only available when the cell has been executed in the\n",
              "      current browser session. Please rerun this cell to enable.\n",
              "      </output>\n",
              "      <script>// Copyright 2017 Google LLC\n",
              "//\n",
              "// Licensed under the Apache License, Version 2.0 (the \"License\");\n",
              "// you may not use this file except in compliance with the License.\n",
              "// You may obtain a copy of the License at\n",
              "//\n",
              "//      http://www.apache.org/licenses/LICENSE-2.0\n",
              "//\n",
              "// Unless required by applicable law or agreed to in writing, software\n",
              "// distributed under the License is distributed on an \"AS IS\" BASIS,\n",
              "// WITHOUT WARRANTIES OR CONDITIONS OF ANY KIND, either express or implied.\n",
              "// See the License for the specific language governing permissions and\n",
              "// limitations under the License.\n",
              "\n",
              "/**\n",
              " * @fileoverview Helpers for google.colab Python module.\n",
              " */\n",
              "(function(scope) {\n",
              "function span(text, styleAttributes = {}) {\n",
              "  const element = document.createElement('span');\n",
              "  element.textContent = text;\n",
              "  for (const key of Object.keys(styleAttributes)) {\n",
              "    element.style[key] = styleAttributes[key];\n",
              "  }\n",
              "  return element;\n",
              "}\n",
              "\n",
              "// Max number of bytes which will be uploaded at a time.\n",
              "const MAX_PAYLOAD_SIZE = 100 * 1024;\n",
              "\n",
              "function _uploadFiles(inputId, outputId) {\n",
              "  const steps = uploadFilesStep(inputId, outputId);\n",
              "  const outputElement = document.getElementById(outputId);\n",
              "  // Cache steps on the outputElement to make it available for the next call\n",
              "  // to uploadFilesContinue from Python.\n",
              "  outputElement.steps = steps;\n",
              "\n",
              "  return _uploadFilesContinue(outputId);\n",
              "}\n",
              "\n",
              "// This is roughly an async generator (not supported in the browser yet),\n",
              "// where there are multiple asynchronous steps and the Python side is going\n",
              "// to poll for completion of each step.\n",
              "// This uses a Promise to block the python side on completion of each step,\n",
              "// then passes the result of the previous step as the input to the next step.\n",
              "function _uploadFilesContinue(outputId) {\n",
              "  const outputElement = document.getElementById(outputId);\n",
              "  const steps = outputElement.steps;\n",
              "\n",
              "  const next = steps.next(outputElement.lastPromiseValue);\n",
              "  return Promise.resolve(next.value.promise).then((value) => {\n",
              "    // Cache the last promise value to make it available to the next\n",
              "    // step of the generator.\n",
              "    outputElement.lastPromiseValue = value;\n",
              "    return next.value.response;\n",
              "  });\n",
              "}\n",
              "\n",
              "/**\n",
              " * Generator function which is called between each async step of the upload\n",
              " * process.\n",
              " * @param {string} inputId Element ID of the input file picker element.\n",
              " * @param {string} outputId Element ID of the output display.\n",
              " * @return {!Iterable<!Object>} Iterable of next steps.\n",
              " */\n",
              "function* uploadFilesStep(inputId, outputId) {\n",
              "  const inputElement = document.getElementById(inputId);\n",
              "  inputElement.disabled = false;\n",
              "\n",
              "  const outputElement = document.getElementById(outputId);\n",
              "  outputElement.innerHTML = '';\n",
              "\n",
              "  const pickedPromise = new Promise((resolve) => {\n",
              "    inputElement.addEventListener('change', (e) => {\n",
              "      resolve(e.target.files);\n",
              "    });\n",
              "  });\n",
              "\n",
              "  const cancel = document.createElement('button');\n",
              "  inputElement.parentElement.appendChild(cancel);\n",
              "  cancel.textContent = 'Cancel upload';\n",
              "  const cancelPromise = new Promise((resolve) => {\n",
              "    cancel.onclick = () => {\n",
              "      resolve(null);\n",
              "    };\n",
              "  });\n",
              "\n",
              "  // Wait for the user to pick the files.\n",
              "  const files = yield {\n",
              "    promise: Promise.race([pickedPromise, cancelPromise]),\n",
              "    response: {\n",
              "      action: 'starting',\n",
              "    }\n",
              "  };\n",
              "\n",
              "  cancel.remove();\n",
              "\n",
              "  // Disable the input element since further picks are not allowed.\n",
              "  inputElement.disabled = true;\n",
              "\n",
              "  if (!files) {\n",
              "    return {\n",
              "      response: {\n",
              "        action: 'complete',\n",
              "      }\n",
              "    };\n",
              "  }\n",
              "\n",
              "  for (const file of files) {\n",
              "    const li = document.createElement('li');\n",
              "    li.append(span(file.name, {fontWeight: 'bold'}));\n",
              "    li.append(span(\n",
              "        `(${file.type || 'n/a'}) - ${file.size} bytes, ` +\n",
              "        `last modified: ${\n",
              "            file.lastModifiedDate ? file.lastModifiedDate.toLocaleDateString() :\n",
              "                                    'n/a'} - `));\n",
              "    const percent = span('0% done');\n",
              "    li.appendChild(percent);\n",
              "\n",
              "    outputElement.appendChild(li);\n",
              "\n",
              "    const fileDataPromise = new Promise((resolve) => {\n",
              "      const reader = new FileReader();\n",
              "      reader.onload = (e) => {\n",
              "        resolve(e.target.result);\n",
              "      };\n",
              "      reader.readAsArrayBuffer(file);\n",
              "    });\n",
              "    // Wait for the data to be ready.\n",
              "    let fileData = yield {\n",
              "      promise: fileDataPromise,\n",
              "      response: {\n",
              "        action: 'continue',\n",
              "      }\n",
              "    };\n",
              "\n",
              "    // Use a chunked sending to avoid message size limits. See b/62115660.\n",
              "    let position = 0;\n",
              "    do {\n",
              "      const length = Math.min(fileData.byteLength - position, MAX_PAYLOAD_SIZE);\n",
              "      const chunk = new Uint8Array(fileData, position, length);\n",
              "      position += length;\n",
              "\n",
              "      const base64 = btoa(String.fromCharCode.apply(null, chunk));\n",
              "      yield {\n",
              "        response: {\n",
              "          action: 'append',\n",
              "          file: file.name,\n",
              "          data: base64,\n",
              "        },\n",
              "      };\n",
              "\n",
              "      let percentDone = fileData.byteLength === 0 ?\n",
              "          100 :\n",
              "          Math.round((position / fileData.byteLength) * 100);\n",
              "      percent.textContent = `${percentDone}% done`;\n",
              "\n",
              "    } while (position < fileData.byteLength);\n",
              "  }\n",
              "\n",
              "  // All done.\n",
              "  yield {\n",
              "    response: {\n",
              "      action: 'complete',\n",
              "    }\n",
              "  };\n",
              "}\n",
              "\n",
              "scope.google = scope.google || {};\n",
              "scope.google.colab = scope.google.colab || {};\n",
              "scope.google.colab._files = {\n",
              "  _uploadFiles,\n",
              "  _uploadFilesContinue,\n",
              "};\n",
              "})(self);\n",
              "</script> "
            ]
          },
          "metadata": {}
        },
        {
          "output_type": "stream",
          "name": "stdout",
          "text": [
            "Saving bhp.csv to bhp.csv\n"
          ]
        }
      ]
    },
    {
      "cell_type": "code",
      "execution_count": 3,
      "metadata": {
        "colab": {
          "base_uri": "https://localhost:8080/",
          "height": 206
        },
        "id": "AeGqBcsc6c3-",
        "outputId": "9557f665-db1e-48a7-d4e8-eff728f2545b"
      },
      "outputs": [
        {
          "output_type": "execute_result",
          "data": {
            "text/plain": [
              "                   location       size  total_sqft  bath   price  bhk  \\\n",
              "0  Electronic City Phase II      2 BHK      1056.0   2.0   39.07    2   \n",
              "1          Chikka Tirupathi  4 Bedroom      2600.0   5.0  120.00    4   \n",
              "2               Uttarahalli      3 BHK      1440.0   2.0   62.00    3   \n",
              "3        Lingadheeranahalli      3 BHK      1521.0   3.0   95.00    3   \n",
              "4                  Kothanur      2 BHK      1200.0   2.0   51.00    2   \n",
              "\n",
              "   price_per_sqft  \n",
              "0            3699  \n",
              "1            4615  \n",
              "2            4305  \n",
              "3            6245  \n",
              "4            4250  "
            ],
            "text/html": [
              "\n",
              "  <div id=\"df-83822739-55d7-4829-b454-11e98b3b4d32\">\n",
              "    <div class=\"colab-df-container\">\n",
              "      <div>\n",
              "<style scoped>\n",
              "    .dataframe tbody tr th:only-of-type {\n",
              "        vertical-align: middle;\n",
              "    }\n",
              "\n",
              "    .dataframe tbody tr th {\n",
              "        vertical-align: top;\n",
              "    }\n",
              "\n",
              "    .dataframe thead th {\n",
              "        text-align: right;\n",
              "    }\n",
              "</style>\n",
              "<table border=\"1\" class=\"dataframe\">\n",
              "  <thead>\n",
              "    <tr style=\"text-align: right;\">\n",
              "      <th></th>\n",
              "      <th>location</th>\n",
              "      <th>size</th>\n",
              "      <th>total_sqft</th>\n",
              "      <th>bath</th>\n",
              "      <th>price</th>\n",
              "      <th>bhk</th>\n",
              "      <th>price_per_sqft</th>\n",
              "    </tr>\n",
              "  </thead>\n",
              "  <tbody>\n",
              "    <tr>\n",
              "      <th>0</th>\n",
              "      <td>Electronic City Phase II</td>\n",
              "      <td>2 BHK</td>\n",
              "      <td>1056.0</td>\n",
              "      <td>2.0</td>\n",
              "      <td>39.07</td>\n",
              "      <td>2</td>\n",
              "      <td>3699</td>\n",
              "    </tr>\n",
              "    <tr>\n",
              "      <th>1</th>\n",
              "      <td>Chikka Tirupathi</td>\n",
              "      <td>4 Bedroom</td>\n",
              "      <td>2600.0</td>\n",
              "      <td>5.0</td>\n",
              "      <td>120.00</td>\n",
              "      <td>4</td>\n",
              "      <td>4615</td>\n",
              "    </tr>\n",
              "    <tr>\n",
              "      <th>2</th>\n",
              "      <td>Uttarahalli</td>\n",
              "      <td>3 BHK</td>\n",
              "      <td>1440.0</td>\n",
              "      <td>2.0</td>\n",
              "      <td>62.00</td>\n",
              "      <td>3</td>\n",
              "      <td>4305</td>\n",
              "    </tr>\n",
              "    <tr>\n",
              "      <th>3</th>\n",
              "      <td>Lingadheeranahalli</td>\n",
              "      <td>3 BHK</td>\n",
              "      <td>1521.0</td>\n",
              "      <td>3.0</td>\n",
              "      <td>95.00</td>\n",
              "      <td>3</td>\n",
              "      <td>6245</td>\n",
              "    </tr>\n",
              "    <tr>\n",
              "      <th>4</th>\n",
              "      <td>Kothanur</td>\n",
              "      <td>2 BHK</td>\n",
              "      <td>1200.0</td>\n",
              "      <td>2.0</td>\n",
              "      <td>51.00</td>\n",
              "      <td>2</td>\n",
              "      <td>4250</td>\n",
              "    </tr>\n",
              "  </tbody>\n",
              "</table>\n",
              "</div>\n",
              "      <button class=\"colab-df-convert\" onclick=\"convertToInteractive('df-83822739-55d7-4829-b454-11e98b3b4d32')\"\n",
              "              title=\"Convert this dataframe to an interactive table.\"\n",
              "              style=\"display:none;\">\n",
              "        \n",
              "  <svg xmlns=\"http://www.w3.org/2000/svg\" height=\"24px\"viewBox=\"0 0 24 24\"\n",
              "       width=\"24px\">\n",
              "    <path d=\"M0 0h24v24H0V0z\" fill=\"none\"/>\n",
              "    <path d=\"M18.56 5.44l.94 2.06.94-2.06 2.06-.94-2.06-.94-.94-2.06-.94 2.06-2.06.94zm-11 1L8.5 8.5l.94-2.06 2.06-.94-2.06-.94L8.5 2.5l-.94 2.06-2.06.94zm10 10l.94 2.06.94-2.06 2.06-.94-2.06-.94-.94-2.06-.94 2.06-2.06.94z\"/><path d=\"M17.41 7.96l-1.37-1.37c-.4-.4-.92-.59-1.43-.59-.52 0-1.04.2-1.43.59L10.3 9.45l-7.72 7.72c-.78.78-.78 2.05 0 2.83L4 21.41c.39.39.9.59 1.41.59.51 0 1.02-.2 1.41-.59l7.78-7.78 2.81-2.81c.8-.78.8-2.07 0-2.86zM5.41 20L4 18.59l7.72-7.72 1.47 1.35L5.41 20z\"/>\n",
              "  </svg>\n",
              "      </button>\n",
              "      \n",
              "  <style>\n",
              "    .colab-df-container {\n",
              "      display:flex;\n",
              "      flex-wrap:wrap;\n",
              "      gap: 12px;\n",
              "    }\n",
              "\n",
              "    .colab-df-convert {\n",
              "      background-color: #E8F0FE;\n",
              "      border: none;\n",
              "      border-radius: 50%;\n",
              "      cursor: pointer;\n",
              "      display: none;\n",
              "      fill: #1967D2;\n",
              "      height: 32px;\n",
              "      padding: 0 0 0 0;\n",
              "      width: 32px;\n",
              "    }\n",
              "\n",
              "    .colab-df-convert:hover {\n",
              "      background-color: #E2EBFA;\n",
              "      box-shadow: 0px 1px 2px rgba(60, 64, 67, 0.3), 0px 1px 3px 1px rgba(60, 64, 67, 0.15);\n",
              "      fill: #174EA6;\n",
              "    }\n",
              "\n",
              "    [theme=dark] .colab-df-convert {\n",
              "      background-color: #3B4455;\n",
              "      fill: #D2E3FC;\n",
              "    }\n",
              "\n",
              "    [theme=dark] .colab-df-convert:hover {\n",
              "      background-color: #434B5C;\n",
              "      box-shadow: 0px 1px 3px 1px rgba(0, 0, 0, 0.15);\n",
              "      filter: drop-shadow(0px 1px 2px rgba(0, 0, 0, 0.3));\n",
              "      fill: #FFFFFF;\n",
              "    }\n",
              "  </style>\n",
              "\n",
              "      <script>\n",
              "        const buttonEl =\n",
              "          document.querySelector('#df-83822739-55d7-4829-b454-11e98b3b4d32 button.colab-df-convert');\n",
              "        buttonEl.style.display =\n",
              "          google.colab.kernel.accessAllowed ? 'block' : 'none';\n",
              "\n",
              "        async function convertToInteractive(key) {\n",
              "          const element = document.querySelector('#df-83822739-55d7-4829-b454-11e98b3b4d32');\n",
              "          const dataTable =\n",
              "            await google.colab.kernel.invokeFunction('convertToInteractive',\n",
              "                                                     [key], {});\n",
              "          if (!dataTable) return;\n",
              "\n",
              "          const docLinkHtml = 'Like what you see? Visit the ' +\n",
              "            '<a target=\"_blank\" href=https://colab.research.google.com/notebooks/data_table.ipynb>data table notebook</a>'\n",
              "            + ' to learn more about interactive tables.';\n",
              "          element.innerHTML = '';\n",
              "          dataTable['output_type'] = 'display_data';\n",
              "          await google.colab.output.renderOutput(dataTable, element);\n",
              "          const docLink = document.createElement('div');\n",
              "          docLink.innerHTML = docLinkHtml;\n",
              "          element.appendChild(docLink);\n",
              "        }\n",
              "      </script>\n",
              "    </div>\n",
              "  </div>\n",
              "  "
            ]
          },
          "metadata": {},
          "execution_count": 3
        }
      ],
      "source": [
        "df = pd.read_csv(\"bhp.csv\")\n",
        "df.head()"
      ]
    },
    {
      "cell_type": "markdown",
      "metadata": {
        "id": "pAjRAqCc6c4A"
      },
      "source": [
        "We will quickly examine price_per_sqft column to check min,max,mean and percentile values"
      ]
    },
    {
      "cell_type": "code",
      "execution_count": 4,
      "metadata": {
        "scrolled": true,
        "colab": {
          "base_uri": "https://localhost:8080/"
        },
        "id": "NLu1DRw_6c4B",
        "outputId": "7db78574-2871-4cc0-ef28-507017870a1a"
      },
      "outputs": [
        {
          "output_type": "execute_result",
          "data": {
            "text/plain": [
              "count    1.320000e+04\n",
              "mean     7.920337e+03\n",
              "std      1.067272e+05\n",
              "min      2.670000e+02\n",
              "25%      4.267000e+03\n",
              "50%      5.438000e+03\n",
              "75%      7.317000e+03\n",
              "max      1.200000e+07\n",
              "Name: price_per_sqft, dtype: float64"
            ]
          },
          "metadata": {},
          "execution_count": 4
        }
      ],
      "source": [
        "df.price_per_sqft.describe()"
      ]
    },
    {
      "cell_type": "markdown",
      "metadata": {
        "id": "CZ3hG_YD6c4B"
      },
      "source": [
        "Above, you can see max is 12000000, which is too much price for price per sqft. Looks like this dataset has some very bad outliers so we will first remove those with percentile and then use z score"
      ]
    },
    {
      "cell_type": "markdown",
      "metadata": {
        "id": "EU2hkO8K6c4C"
      },
      "source": [
        "Also **plot histogram** to see how is the data distribution"
      ]
    },
    {
      "cell_type": "code",
      "execution_count": 5,
      "metadata": {
        "scrolled": true,
        "colab": {
          "base_uri": "https://localhost:8080/",
          "height": 497
        },
        "id": "XcVyLiWR6c4C",
        "outputId": "0a524048-2f49-4797-bcd7-f94feafac03d"
      },
      "outputs": [
        {
          "output_type": "display_data",
          "data": {
            "text/plain": [
              "<Figure size 864x576 with 1 Axes>"
            ],
            "image/png": "[encoded data removed]"
          },
          "metadata": {
            "needs_background": "light"
          }
        }
      ],
      "source": [
        "plt.hist(df.price_per_sqft, bins=20, rwidth=0.8)\n",
        "plt.xlabel('Price per square ft')\n",
        "plt.ylabel('Count')\n",
        "plt.show()"
      ]
    },
    {
      "cell_type": "markdown",
      "metadata": {
        "id": "Nd9URlaa6c4D"
      },
      "source": [
        "Above chart confirms our understanding that this dataset has some bad outliers. Because we see only one bar with more than 12000 data points but on the right hand side there are data points that have higher value for price per sqft but count of these data points is very tiny compared to 12000 hence we can hardly see any bar"
      ]
    },
    {
      "cell_type": "markdown",
      "metadata": {
        "id": "aeMdN8Xl6c4D"
      },
      "source": [
        "Using **log scale** can make visualization little better"
      ]
    },
    {
      "cell_type": "code",
      "execution_count": 6,
      "metadata": {
        "colab": {
          "base_uri": "https://localhost:8080/",
          "height": 497
        },
        "id": "RYu0NmY66c4D",
        "outputId": "ef4d90f7-ef6e-4280-c67e-3ee4e35af846"
      },
      "outputs": [
        {
          "output_type": "display_data",
          "data": {
            "text/plain": [
              "<Figure size 864x576 with 1 Axes>"
            ],
            "image/png": "[encoded data removed]"
          },
          "metadata": {
            "needs_background": "light"
          }
        }
      ],
      "source": [
        "plt.hist(df.price_per_sqft, bins=20, rwidth=0.8)\n",
        "plt.xlabel('Price per square ft')\n",
        "plt.ylabel('Count')\n",
        "plt.yscale('log')\n",
        "plt.show()"
      ]
    },
    {
      "cell_type": "markdown",
      "metadata": {
        "id": "zum6YQLG6c4E"
      },
      "source": [
        "You see atleast few bars on right hand side of our highest building at least :)"
      ]
    },
    {
      "cell_type": "markdown",
      "metadata": {
        "id": "o_X7Q9G46c4E"
      },
      "source": [
        "<h3 style='color:purple'>(1) Treat outliers using percentile first</h3>"
      ]
    },
    {
      "cell_type": "code",
      "execution_count": 7,
      "metadata": {
        "colab": {
          "base_uri": "https://localhost:8080/"
        },
        "id": "WmJTLb8Z6c4E",
        "outputId": "c4c04485-708f-463b-d0b6-30e0abc1de28"
      },
      "outputs": [
        {
          "output_type": "execute_result",
          "data": {
            "text/plain": [
              "(1366.184, 50959.36200000098)"
            ]
          },
          "metadata": {},
          "execution_count": 7
        }
      ],
      "source": [
        "lower_limit, upper_limit = df.price_per_sqft.quantile([0.001, 0.999])\n",
        "lower_limit, upper_limit"
      ]
    },
    {
      "cell_type": "code",
      "execution_count": 8,
      "metadata": {
        "colab": {
          "base_uri": "https://localhost:8080/",
          "height": 363
        },
        "id": "CmkSHtEz6c4F",
        "outputId": "4472a82f-7635-45cc-c470-970410fc20f1"
      },
      "outputs": [
        {
          "output_type": "execute_result",
          "data": {
            "text/plain": [
              "                location       size  total_sqft  bath   price  bhk  \\\n",
              "8300             Kengeri      1 BHK      1200.0   1.0    14.0    1   \n",
              "4924               other      7 BHK         5.0   7.0   115.0    7   \n",
              "4044      Sarjapur  Road  4 Bedroom         1.0   4.0   120.0    4   \n",
              "9144               other  4 Bedroom     10961.0   4.0    80.0    4   \n",
              "7862            JP Nagar      3 BHK     20000.0   3.0   175.0    3   \n",
              "3934               other      1 BHK      1500.0   1.0    19.5    1   \n",
              "1005               other      1 BHK        15.0   1.0    30.0    1   \n",
              "12355              other      4 BHK     16335.0   4.0   149.0    4   \n",
              "8307   Bannerghatta Road      5 BHK      2500.0   4.0  1400.0    5   \n",
              "7799               other      4 BHK      2000.0   3.0  1063.0    4   \n",
              "\n",
              "       price_per_sqft  \n",
              "8300             1166  \n",
              "4924          2300000  \n",
              "4044         12000000  \n",
              "9144              729  \n",
              "7862              875  \n",
              "3934             1300  \n",
              "1005           200000  \n",
              "12355             912  \n",
              "8307            56000  \n",
              "7799            53150  "
            ],
            "text/html": [
              "\n",
              "  <div id=\"df-47cc6851-c0ce-4698-8d5c-3368d3b8634a\">\n",
              "    <div class=\"colab-df-container\">\n",
              "      <div>\n",
              "<style scoped>\n",
              "    .dataframe tbody tr th:only-of-type {\n",
              "        vertical-align: middle;\n",
              "    }\n",
              "\n",
              "    .dataframe tbody tr th {\n",
              "        vertical-align: top;\n",
              "    }\n",
              "\n",
              "    .dataframe thead th {\n",
              "        text-align: right;\n",
              "    }\n",
              "</style>\n",
              "<table border=\"1\" class=\"dataframe\">\n",
              "  <thead>\n",
              "    <tr style=\"text-align: right;\">\n",
              "      <th></th>\n",
              "      <th>location</th>\n",
              "      <th>size</th>\n",
              "      <th>total_sqft</th>\n",
              "      <th>bath</th>\n",
              "      <th>price</th>\n",
              "      <th>bhk</th>\n",
              "      <th>price_per_sqft</th>\n",
              "    </tr>\n",
              "  </thead>\n",
              "  <tbody>\n",
              "    <tr>\n",
              "      <th>8300</th>\n",
              "      <td>Kengeri</td>\n",
              "      <td>1 BHK</td>\n",
              "      <td>1200.0</td>\n",
              "      <td>1.0</td>\n",
              "      <td>14.0</td>\n",
              "      <td>1</td>\n",
              "      <td>1166</td>\n",
              "    </tr>\n",
              "    <tr>\n",
              "      <th>4924</th>\n",
              "      <td>other</td>\n",
              "      <td>7 BHK</td>\n",
              "      <td>5.0</td>\n",
              "      <td>7.0</td>\n",
              "      <td>115.0</td>\n",
              "      <td>7</td>\n",
              "      <td>2300000</td>\n",
              "    </tr>\n",
              "    <tr>\n",
              "      <th>4044</th>\n",
              "      <td>Sarjapur  Road</td>\n",
              "      <td>4 Bedroom</td>\n",
              "      <td>1.0</td>\n",
              "      <td>4.0</td>\n",
              "      <td>120.0</td>\n",
              "      <td>4</td>\n",
              "      <td>12000000</td>\n",
              "    </tr>\n",
              "    <tr>\n",
              "      <th>9144</th>\n",
              "      <td>other</td>\n",
              "      <td>4 Bedroom</td>\n",
              "      <td>10961.0</td>\n",
              "      <td>4.0</td>\n",
              "      <td>80.0</td>\n",
              "      <td>4</td>\n",
              "      <td>729</td>\n",
              "    </tr>\n",
              "    <tr>\n",
              "      <th>7862</th>\n",
              "      <td>JP Nagar</td>\n",
              "      <td>3 BHK</td>\n",
              "      <td>20000.0</td>\n",
              "      <td>3.0</td>\n",
              "      <td>175.0</td>\n",
              "      <td>3</td>\n",
              "      <td>875</td>\n",
              "    </tr>\n",
              "    <tr>\n",
              "      <th>3934</th>\n",
              "      <td>other</td>\n",
              "      <td>1 BHK</td>\n",
              "      <td>1500.0</td>\n",
              "      <td>1.0</td>\n",
              "      <td>19.5</td>\n",
              "      <td>1</td>\n",
              "      <td>1300</td>\n",
              "    </tr>\n",
              "    <tr>\n",
              "      <th>1005</th>\n",
              "      <td>other</td>\n",
              "      <td>1 BHK</td>\n",
              "      <td>15.0</td>\n",
              "      <td>1.0</td>\n",
              "      <td>30.0</td>\n",
              "      <td>1</td>\n",
              "      <td>200000</td>\n",
              "    </tr>\n",
              "    <tr>\n",
              "      <th>12355</th>\n",
              "      <td>other</td>\n",
              "      <td>4 BHK</td>\n",
              "      <td>16335.0</td>\n",
              "      <td>4.0</td>\n",
              "      <td>149.0</td>\n",
              "      <td>4</td>\n",
              "      <td>912</td>\n",
              "    </tr>\n",
              "    <tr>\n",
              "      <th>8307</th>\n",
              "      <td>Bannerghatta Road</td>\n",
              "      <td>5 BHK</td>\n",
              "      <td>2500.0</td>\n",
              "      <td>4.0</td>\n",
              "      <td>1400.0</td>\n",
              "      <td>5</td>\n",
              "      <td>56000</td>\n",
              "    </tr>\n",
              "    <tr>\n",
              "      <th>7799</th>\n",
              "      <td>other</td>\n",
              "      <td>4 BHK</td>\n",
              "      <td>2000.0</td>\n",
              "      <td>3.0</td>\n",
              "      <td>1063.0</td>\n",
              "      <td>4</td>\n",
              "      <td>53150</td>\n",
              "    </tr>\n",
              "  </tbody>\n",
              "</table>\n",
              "</div>\n",
              "      <button class=\"colab-df-convert\" onclick=\"convertToInteractive('df-47cc6851-c0ce-4698-8d5c-3368d3b8634a')\"\n",
              "              title=\"Convert this dataframe to an interactive table.\"\n",
              "              style=\"display:none;\">\n",
              "        \n",
              "  <svg xmlns=\"http://www.w3.org/2000/svg\" height=\"24px\"viewBox=\"0 0 24 24\"\n",
              "       width=\"24px\">\n",
              "    <path d=\"M0 0h24v24H0V0z\" fill=\"none\"/>\n",
              "    <path d=\"M18.56 5.44l.94 2.06.94-2.06 2.06-.94-2.06-.94-.94-2.06-.94 2.06-2.06.94zm-11 1L8.5 8.5l.94-2.06 2.06-.94-2.06-.94L8.5 2.5l-.94 2.06-2.06.94zm10 10l.94 2.06.94-2.06 2.06-.94-2.06-.94-.94-2.06-.94 2.06-2.06.94z\"/><path d=\"M17.41 7.96l-1.37-1.37c-.4-.4-.92-.59-1.43-.59-.52 0-1.04.2-1.43.59L10.3 9.45l-7.72 7.72c-.78.78-.78 2.05 0 2.83L4 21.41c.39.39.9.59 1.41.59.51 0 1.02-.2 1.41-.59l7.78-7.78 2.81-2.81c.8-.78.8-2.07 0-2.86zM5.41 20L4 18.59l7.72-7.72 1.47 1.35L5.41 20z\"/>\n",
              "  </svg>\n",
              "      </button>\n",
              "      \n",
              "  <style>\n",
              "    .colab-df-container {\n",
              "      display:flex;\n",
              "      flex-wrap:wrap;\n",
              "      gap: 12px;\n",
              "    }\n",
              "\n",
              "    .colab-df-convert {\n",
              "      background-color: #E8F0FE;\n",
              "      border: none;\n",
              "      border-radius: 50%;\n",
              "      cursor: pointer;\n",
              "      display: none;\n",
              "      fill: #1967D2;\n",
              "      height: 32px;\n",
              "      padding: 0 0 0 0;\n",
              "      width: 32px;\n",
              "    }\n",
              "\n",
              "    .colab-df-convert:hover {\n",
              "      background-color: #E2EBFA;\n",
              "      box-shadow: 0px 1px 2px rgba(60, 64, 67, 0.3), 0px 1px 3px 1px rgba(60, 64, 67, 0.15);\n",
              "      fill: #174EA6;\n",
              "    }\n",
              "\n",
              "    [theme=dark] .colab-df-convert {\n",
              "      background-color: #3B4455;\n",
              "      fill: #D2E3FC;\n",
              "    }\n",
              "\n",
              "    [theme=dark] .colab-df-convert:hover {\n",
              "      background-color: #434B5C;\n",
              "      box-shadow: 0px 1px 3px 1px rgba(0, 0, 0, 0.15);\n",
              "      filter: drop-shadow(0px 1px 2px rgba(0, 0, 0, 0.3));\n",
              "      fill: #FFFFFF;\n",
              "    }\n",
              "  </style>\n",
              "\n",
              "      <script>\n",
              "        const buttonEl =\n",
              "          document.querySelector('#df-47cc6851-c0ce-4698-8d5c-3368d3b8634a button.colab-df-convert');\n",
              "        buttonEl.style.display =\n",
              "          google.colab.kernel.accessAllowed ? 'block' : 'none';\n",
              "\n",
              "        async function convertToInteractive(key) {\n",
              "          const element = document.querySelector('#df-47cc6851-c0ce-4698-8d5c-3368d3b8634a');\n",
              "          const dataTable =\n",
              "            await google.colab.kernel.invokeFunction('convertToInteractive',\n",
              "                                                     [key], {});\n",
              "          if (!dataTable) return;\n",
              "\n",
              "          const docLinkHtml = 'Like what you see? Visit the ' +\n",
              "            '<a target=\"_blank\" href=https://colab.research.google.com/notebooks/data_table.ipynb>data table notebook</a>'\n",
              "            + ' to learn more about interactive tables.';\n",
              "          element.innerHTML = '';\n",
              "          dataTable['output_type'] = 'display_data';\n",
              "          await google.colab.output.renderOutput(dataTable, element);\n",
              "          const docLink = document.createElement('div');\n",
              "          docLink.innerHTML = docLinkHtml;\n",
              "          element.appendChild(docLink);\n",
              "        }\n",
              "      </script>\n",
              "    </div>\n",
              "  </div>\n",
              "  "
            ]
          },
          "metadata": {},
          "execution_count": 8
        }
      ],
      "source": [
        "outliers = df[(df.price_per_sqft>upper_limit) | (df.price_per_sqft<lower_limit)]\n",
        "outliers.sample(10)"
      ]
    },
    {
      "cell_type": "markdown",
      "metadata": {
        "id": "ddzJjhf36c4F"
      },
      "source": [
        "Above shows properties that has price_per_sqft value such as 500 rs which is very very low for the city of banglore. You would be very lucky if you can find such as property :) \n",
        "Also we have properties that has price per sqft value such as 12000000 which is way too high. It seems almost impossible and even if it is legitimate it can help data analysis process if we remove such a data point"
      ]
    },
    {
      "cell_type": "code",
      "execution_count": 9,
      "metadata": {
        "scrolled": true,
        "colab": {
          "base_uri": "https://localhost:8080/"
        },
        "id": "qEuMU-VB6c4F",
        "outputId": "a0b5a1de-75af-4d93-9afc-b7967b21bd71"
      },
      "outputs": [
        {
          "output_type": "execute_result",
          "data": {
            "text/plain": [
              "(13172, 7)"
            ]
          },
          "metadata": {},
          "execution_count": 9
        }
      ],
      "source": [
        "df2 = df[(df.price_per_sqft<upper_limit) & (df.price_per_sqft>lower_limit)]\n",
        "df2.shape"
      ]
    },
    {
      "cell_type": "code",
      "execution_count": 10,
      "metadata": {
        "colab": {
          "base_uri": "https://localhost:8080/"
        },
        "id": "uMeSB_wg6c4F",
        "outputId": "a813bbbf-f8bf-4002-c5a5-39d73efdc87d"
      },
      "outputs": [
        {
          "output_type": "execute_result",
          "data": {
            "text/plain": [
              "(13200, 7)"
            ]
          },
          "metadata": {},
          "execution_count": 10
        }
      ],
      "source": [
        "df.shape"
      ]
    },
    {
      "cell_type": "code",
      "execution_count": 11,
      "metadata": {
        "colab": {
          "base_uri": "https://localhost:8080/"
        },
        "id": "K_ZCX4TI6c4G",
        "outputId": "ee7cb978-22a2-4ba9-b275-82836d2ffbb5"
      },
      "outputs": [
        {
          "output_type": "execute_result",
          "data": {
            "text/plain": [
              "28"
            ]
          },
          "metadata": {},
          "execution_count": 11
        }
      ],
      "source": [
        "df.shape[0] - df2.shape[0]"
      ]
    },
    {
      "cell_type": "markdown",
      "metadata": {
        "id": "gJb9UopK6c4G"
      },
      "source": [
        "**We removed total 28 outliers**"
      ]
    },
    {
      "cell_type": "markdown",
      "metadata": {
        "id": "NRghF4mD6c4G"
      },
      "source": [
        "<h3 style='color:purple'>(2) Now remove outliers using 4 standard deviation</h3>"
      ]
    },
    {
      "cell_type": "code",
      "execution_count": 12,
      "metadata": {
        "colab": {
          "base_uri": "https://localhost:8080/"
        },
        "id": "2FsUVduv6c4G",
        "outputId": "1ce679fc-8a7f-481a-c952-8d49b914916b"
      },
      "outputs": [
        {
          "output_type": "execute_result",
          "data": {
            "text/plain": [
              "(23227.73653589432, -9900.429065502582)"
            ]
          },
          "metadata": {},
          "execution_count": 12
        }
      ],
      "source": [
        "max_limit = df2.price_per_sqft.mean() + 4*df2.price_per_sqft.std()\n",
        "min_limit = df2.price_per_sqft.mean() - 4*df2.price_per_sqft.std()\n",
        "max_limit, min_limit"
      ]
    },
    {
      "cell_type": "code",
      "execution_count": 13,
      "metadata": {
        "scrolled": true,
        "colab": {
          "base_uri": "https://localhost:8080/",
          "height": 363
        },
        "id": "9DHj0GSb6c4H",
        "outputId": "536921c5-2147-45eb-c573-41efa247ffdd"
      },
      "outputs": [
        {
          "output_type": "execute_result",
          "data": {
            "text/plain": [
              "                    location       size  total_sqft  bath  price  bhk  \\\n",
              "8861         Cunningham Road  5 Bedroom      2925.0   5.0  936.0    5   \n",
              "9808             Uttarahalli  6 Bedroom      1200.0   6.0  330.0    6   \n",
              "3420                   other  3 Bedroom      1350.0   3.0  380.0    3   \n",
              "12636            OMBR Layout  5 Bedroom       600.0   3.0  140.0    5   \n",
              "12051           Malleshwaram  5 Bedroom      3000.0   4.0  900.0    5   \n",
              "5315   Banashankari Stage II  4 Bedroom      1500.0   2.0  650.0    4   \n",
              "1721                   other  5 Bedroom      2400.0   5.0  625.0    5   \n",
              "12334           Indira Nagar  4 Bedroom      2400.0   4.0  700.0    4   \n",
              "11661                  other  4 Bedroom      1200.0   4.0  375.0    4   \n",
              "9                      other  6 Bedroom      1020.0   6.0  370.0    6   \n",
              "\n",
              "       price_per_sqft  \n",
              "8861            32000  \n",
              "9808            27500  \n",
              "3420            28148  \n",
              "12636           23333  \n",
              "12051           30000  \n",
              "5315            43333  \n",
              "1721            26041  \n",
              "12334           29166  \n",
              "11661           31250  \n",
              "9               36274  "
            ],
            "text/html": [
              "\n",
              "  <div id=\"df-f3ab0f88-a099-4f9f-a55c-4a1da4de4493\">\n",
              "    <div class=\"colab-df-container\">\n",
              "      <div>\n",
              "<style scoped>\n",
              "    .dataframe tbody tr th:only-of-type {\n",
              "        vertical-align: middle;\n",
              "    }\n",
              "\n",
              "    .dataframe tbody tr th {\n",
              "        vertical-align: top;\n",
              "    }\n",
              "\n",
              "    .dataframe thead th {\n",
              "        text-align: right;\n",
              "    }\n",
              "</style>\n",
              "<table border=\"1\" class=\"dataframe\">\n",
              "  <thead>\n",
              "    <tr style=\"text-align: right;\">\n",
              "      <th></th>\n",
              "      <th>location</th>\n",
              "      <th>size</th>\n",
              "      <th>total_sqft</th>\n",
              "      <th>bath</th>\n",
              "      <th>price</th>\n",
              "      <th>bhk</th>\n",
              "      <th>price_per_sqft</th>\n",
              "    </tr>\n",
              "  </thead>\n",
              "  <tbody>\n",
              "    <tr>\n",
              "      <th>8861</th>\n",
              "      <td>Cunningham Road</td>\n",
              "      <td>5 Bedroom</td>\n",
              "      <td>2925.0</td>\n",
              "      <td>5.0</td>\n",
              "      <td>936.0</td>\n",
              "      <td>5</td>\n",
              "      <td>32000</td>\n",
              "    </tr>\n",
              "    <tr>\n",
              "      <th>9808</th>\n",
              "      <td>Uttarahalli</td>\n",
              "      <td>6 Bedroom</td>\n",
              "      <td>1200.0</td>\n",
              "      <td>6.0</td>\n",
              "      <td>330.0</td>\n",
              "      <td>6</td>\n",
              "      <td>27500</td>\n",
              "    </tr>\n",
              "    <tr>\n",
              "      <th>3420</th>\n",
              "      <td>other</td>\n",
              "      <td>3 Bedroom</td>\n",
              "      <td>1350.0</td>\n",
              "      <td>3.0</td>\n",
              "      <td>380.0</td>\n",
              "      <td>3</td>\n",
              "      <td>28148</td>\n",
              "    </tr>\n",
              "    <tr>\n",
              "      <th>12636</th>\n",
              "      <td>OMBR Layout</td>\n",
              "      <td>5 Bedroom</td>\n",
              "      <td>600.0</td>\n",
              "      <td>3.0</td>\n",
              "      <td>140.0</td>\n",
              "      <td>5</td>\n",
              "      <td>23333</td>\n",
              "    </tr>\n",
              "    <tr>\n",
              "      <th>12051</th>\n",
              "      <td>Malleshwaram</td>\n",
              "      <td>5 Bedroom</td>\n",
              "      <td>3000.0</td>\n",
              "      <td>4.0</td>\n",
              "      <td>900.0</td>\n",
              "      <td>5</td>\n",
              "      <td>30000</td>\n",
              "    </tr>\n",
              "    <tr>\n",
              "      <th>5315</th>\n",
              "      <td>Banashankari Stage II</td>\n",
              "      <td>4 Bedroom</td>\n",
              "      <td>1500.0</td>\n",
              "      <td>2.0</td>\n",
              "      <td>650.0</td>\n",
              "      <td>4</td>\n",
              "      <td>43333</td>\n",
              "    </tr>\n",
              "    <tr>\n",
              "      <th>1721</th>\n",
              "      <td>other</td>\n",
              "      <td>5 Bedroom</td>\n",
              "      <td>2400.0</td>\n",
              "      <td>5.0</td>\n",
              "      <td>625.0</td>\n",
              "      <td>5</td>\n",
              "      <td>26041</td>\n",
              "    </tr>\n",
              "    <tr>\n",
              "      <th>12334</th>\n",
              "      <td>Indira Nagar</td>\n",
              "      <td>4 Bedroom</td>\n",
              "      <td>2400.0</td>\n",
              "      <td>4.0</td>\n",
              "      <td>700.0</td>\n",
              "      <td>4</td>\n",
              "      <td>29166</td>\n",
              "    </tr>\n",
              "    <tr>\n",
              "      <th>11661</th>\n",
              "      <td>other</td>\n",
              "      <td>4 Bedroom</td>\n",
              "      <td>1200.0</td>\n",
              "      <td>4.0</td>\n",
              "      <td>375.0</td>\n",
              "      <td>4</td>\n",
              "      <td>31250</td>\n",
              "    </tr>\n",
              "    <tr>\n",
              "      <th>9</th>\n",
              "      <td>other</td>\n",
              "      <td>6 Bedroom</td>\n",
              "      <td>1020.0</td>\n",
              "      <td>6.0</td>\n",
              "      <td>370.0</td>\n",
              "      <td>6</td>\n",
              "      <td>36274</td>\n",
              "    </tr>\n",
              "  </tbody>\n",
              "</table>\n",
              "</div>\n",
              "      <button class=\"colab-df-convert\" onclick=\"convertToInteractive('df-f3ab0f88-a099-4f9f-a55c-4a1da4de4493')\"\n",
              "              title=\"Convert this dataframe to an interactive table.\"\n",
              "              style=\"display:none;\">\n",
              "        \n",
              "  <svg xmlns=\"http://www.w3.org/2000/svg\" height=\"24px\"viewBox=\"0 0 24 24\"\n",
              "       width=\"24px\">\n",
              "    <path d=\"M0 0h24v24H0V0z\" fill=\"none\"/>\n",
              "    <path d=\"M18.56 5.44l.94 2.06.94-2.06 2.06-.94-2.06-.94-.94-2.06-.94 2.06-2.06.94zm-11 1L8.5 8.5l.94-2.06 2.06-.94-2.06-.94L8.5 2.5l-.94 2.06-2.06.94zm10 10l.94 2.06.94-2.06 2.06-.94-2.06-.94-.94-2.06-.94 2.06-2.06.94z\"/><path d=\"M17.41 7.96l-1.37-1.37c-.4-.4-.92-.59-1.43-.59-.52 0-1.04.2-1.43.59L10.3 9.45l-7.72 7.72c-.78.78-.78 2.05 0 2.83L4 21.41c.39.39.9.59 1.41.59.51 0 1.02-.2 1.41-.59l7.78-7.78 2.81-2.81c.8-.78.8-2.07 0-2.86zM5.41 20L4 18.59l7.72-7.72 1.47 1.35L5.41 20z\"/>\n",
              "  </svg>\n",
              "      </button>\n",
              "      \n",
              "  <style>\n",
              "    .colab-df-container {\n",
              "      display:flex;\n",
              "      flex-wrap:wrap;\n",
              "      gap: 12px;\n",
              "    }\n",
              "\n",
              "    .colab-df-convert {\n",
              "      background-color: #E8F0FE;\n",
              "      border: none;\n",
              "      border-radius: 50%;\n",
              "      cursor: pointer;\n",
              "      display: none;\n",
              "      fill: #1967D2;\n",
              "      height: 32px;\n",
              "      padding: 0 0 0 0;\n",
              "      width: 32px;\n",
              "    }\n",
              "\n",
              "    .colab-df-convert:hover {\n",
              "      background-color: #E2EBFA;\n",
              "      box-shadow: 0px 1px 2px rgba(60, 64, 67, 0.3), 0px 1px 3px 1px rgba(60, 64, 67, 0.15);\n",
              "      fill: #174EA6;\n",
              "    }\n",
              "\n",
              "    [theme=dark] .colab-df-convert {\n",
              "      background-color: #3B4455;\n",
              "      fill: #D2E3FC;\n",
              "    }\n",
              "\n",
              "    [theme=dark] .colab-df-convert:hover {\n",
              "      background-color: #434B5C;\n",
              "      box-shadow: 0px 1px 3px 1px rgba(0, 0, 0, 0.15);\n",
              "      filter: drop-shadow(0px 1px 2px rgba(0, 0, 0, 0.3));\n",
              "      fill: #FFFFFF;\n",
              "    }\n",
              "  </style>\n",
              "\n",
              "      <script>\n",
              "        const buttonEl =\n",
              "          document.querySelector('#df-f3ab0f88-a099-4f9f-a55c-4a1da4de4493 button.colab-df-convert');\n",
              "        buttonEl.style.display =\n",
              "          google.colab.kernel.accessAllowed ? 'block' : 'none';\n",
              "\n",
              "        async function convertToInteractive(key) {\n",
              "          const element = document.querySelector('#df-f3ab0f88-a099-4f9f-a55c-4a1da4de4493');\n",
              "          const dataTable =\n",
              "            await google.colab.kernel.invokeFunction('convertToInteractive',\n",
              "                                                     [key], {});\n",
              "          if (!dataTable) return;\n",
              "\n",
              "          const docLinkHtml = 'Like what you see? Visit the ' +\n",
              "            '<a target=\"_blank\" href=https://colab.research.google.com/notebooks/data_table.ipynb>data table notebook</a>'\n",
              "            + ' to learn more about interactive tables.';\n",
              "          element.innerHTML = '';\n",
              "          dataTable['output_type'] = 'display_data';\n",
              "          await google.colab.output.renderOutput(dataTable, element);\n",
              "          const docLink = document.createElement('div');\n",
              "          docLink.innerHTML = docLinkHtml;\n",
              "          element.appendChild(docLink);\n",
              "        }\n",
              "      </script>\n",
              "    </div>\n",
              "  </div>\n",
              "  "
            ]
          },
          "metadata": {},
          "execution_count": 13
        }
      ],
      "source": [
        "df2[(df2.price_per_sqft>max_limit) | (df2.price_per_sqft<min_limit)].sample(10)"
      ]
    },
    {
      "cell_type": "code",
      "execution_count": 14,
      "metadata": {
        "colab": {
          "base_uri": "https://localhost:8080/"
        },
        "id": "IKd8SPqg6c4H",
        "outputId": "7cff583f-7297-4567-c64a-60719e6d0836"
      },
      "outputs": [
        {
          "output_type": "execute_result",
          "data": {
            "text/plain": [
              "(13047, 7)"
            ]
          },
          "metadata": {},
          "execution_count": 14
        }
      ],
      "source": [
        "df3 = df2[(df2.price_per_sqft>min_limit) & (df2.price_per_sqft<max_limit)]\n",
        "df3.shape"
      ]
    },
    {
      "cell_type": "code",
      "execution_count": 15,
      "metadata": {
        "colab": {
          "base_uri": "https://localhost:8080/"
        },
        "id": "dpLQPJPM6c4H",
        "outputId": "e208a192-1604-4174-c0ba-67af2e9e4e30"
      },
      "outputs": [
        {
          "output_type": "execute_result",
          "data": {
            "text/plain": [
              "125"
            ]
          },
          "metadata": {},
          "execution_count": 15
        }
      ],
      "source": [
        "df2.shape[0]-df3.shape[0]"
      ]
    },
    {
      "cell_type": "markdown",
      "metadata": {
        "id": "LZdkLai56c4I"
      },
      "source": [
        "In this step we removed total 125 outliers"
      ]
    },
    {
      "cell_type": "code",
      "execution_count": 16,
      "metadata": {
        "colab": {
          "base_uri": "https://localhost:8080/",
          "height": 497
        },
        "id": "XAWeXi_R6c4I",
        "outputId": "6509fd6d-30d2-4305-8e7b-c8c88f2c388d"
      },
      "outputs": [
        {
          "output_type": "display_data",
          "data": {
            "text/plain": [
              "<Figure size 864x576 with 1 Axes>"
            ],
            "image/png": "[encoded data removed]"
          },
          "metadata": {
            "needs_background": "light"
          }
        }
      ],
      "source": [
        "plt.hist(df3.price_per_sqft, bins=20, rwidth=0.8)\n",
        "plt.xlabel('Price per square ft')\n",
        "plt.ylabel('Count')\n",
        "plt.show()"
      ]
    },
    {
      "cell_type": "code",
      "execution_count": 17,
      "metadata": {
        "scrolled": true,
        "colab": {
          "base_uri": "https://localhost:8080/",
          "height": 515
        },
        "id": "jYHVFHnr6c4I",
        "outputId": "22a6b382-2efc-456a-ea45-6b57ca7dac79"
      },
      "outputs": [
        {
          "output_type": "execute_result",
          "data": {
            "text/plain": [
              "[<matplotlib.lines.Line2D at 0x7f267c94a8d0>]"
            ]
          },
          "metadata": {},
          "execution_count": 17
        },
        {
          "output_type": "display_data",
          "data": {
            "text/plain": [
              "<Figure size 864x576 with 1 Axes>"
            ],
            "image/png": "[encoded data removed]"
          },
          "metadata": {
            "needs_background": "light"
          }
        }
      ],
      "source": [
        "from scipy.stats import norm\n",
        "import numpy as np\n",
        "\n",
        "plt.hist(df3.price_per_sqft, bins=20, rwidth=0.8, density=True)\n",
        "plt.xlabel('Height (inches)')\n",
        "plt.ylabel('Count')\n",
        "\n",
        "rng = np.arange(-5000, df3.price_per_sqft.max(), 100)\n",
        "plt.plot(rng, norm.pdf(rng,df3.price_per_sqft.mean(),df3.price_per_sqft.std()))"
      ]
    },
    {
      "cell_type": "markdown",
      "metadata": {
        "id": "eWFcEHt66c4J"
      },
      "source": [
        "<h3 style='color:purple'>(3) Now remove outliers using z score. Use z score of 4 as your thresold</h3>"
      ]
    },
    {
      "cell_type": "code",
      "execution_count": 18,
      "metadata": {
        "scrolled": true,
        "colab": {
          "base_uri": "https://localhost:8080/",
          "height": 472
        },
        "id": "TfPZsfQC6c4J",
        "outputId": "658ba8e8-9fde-419c-b86e-583ab177d730"
      },
      "outputs": [
        {
          "output_type": "stream",
          "name": "stderr",
          "text": [
            "/usr/local/lib/python3.7/dist-packages/ipykernel_launcher.py:1: SettingWithCopyWarning: \n",
            "A value is trying to be set on a copy of a slice from a DataFrame.\n",
            "Try using .loc[row_indexer,col_indexer] = value instead\n",
            "\n",
            "See the caveats in the documentation: https://pandas.pydata.org/pandas-docs/stable/user_guide/indexing.html#returning-a-view-versus-a-copy\n",
            "  \"\"\"Entry point for launching an IPython kernel.\n"
          ]
        },
        {
          "output_type": "execute_result",
          "data": {
            "text/plain": [
              "              location   size  total_sqft  bath   price  bhk  price_per_sqft  \\\n",
              "6031    Kaikondrahalli  3 BHK      1605.0   3.0  105.00    3            6542   \n",
              "12675   CV Raman Nagar  2 BHK      1227.0   2.0   42.88    2            3494   \n",
              "10356   Sarjapur  Road  2 BHK       970.0   2.0   36.00    2            3711   \n",
              "3743            Harlur  3 BHK      1758.0   3.0  133.00    3            7565   \n",
              "16       Bisuvanahalli  3 BHK      1180.0   3.0   48.00    3            4067   \n",
              "4438        Ambalipura  2 BHK       896.0   2.0   30.13    2            3362   \n",
              "6799   Electronic City  2 BHK      1130.0   2.0   32.63    2            2887   \n",
              "4314           Hormavu  3 BHK      1453.0   2.0   43.58    3            2999   \n",
              "1668         Yelahanka  2 BHK      1150.0   2.0   46.00    2            4000   \n",
              "3911   Electronic City  3 BHK      1500.0   2.0  100.00    3            6666   \n",
              "\n",
              "         zscore  \n",
              "6031  -0.029378  \n",
              "12675 -0.765428  \n",
              "10356 -0.713026  \n",
              "3743   0.217663  \n",
              "16    -0.627056  \n",
              "4438  -0.797304  \n",
              "6799  -0.912010  \n",
              "4314  -0.884964  \n",
              "1668  -0.643236  \n",
              "3911   0.000567  "
            ],
            "text/html": [
              "\n",
              "  <div id=\"df-1cc864d7-50bc-44b4-bdf9-3674e5b48f37\">\n",
              "    <div class=\"colab-df-container\">\n",
              "      <div>\n",
              "<style scoped>\n",
              "    .dataframe tbody tr th:only-of-type {\n",
              "        vertical-align: middle;\n",
              "    }\n",
              "\n",
              "    .dataframe tbody tr th {\n",
              "        vertical-align: top;\n",
              "    }\n",
              "\n",
              "    .dataframe thead th {\n",
              "        text-align: right;\n",
              "    }\n",
              "</style>\n",
              "<table border=\"1\" class=\"dataframe\">\n",
              "  <thead>\n",
              "    <tr style=\"text-align: right;\">\n",
              "      <th></th>\n",
              "      <th>location</th>\n",
              "      <th>size</th>\n",
              "      <th>total_sqft</th>\n",
              "      <th>bath</th>\n",
              "      <th>price</th>\n",
              "      <th>bhk</th>\n",
              "      <th>price_per_sqft</th>\n",
              "      <th>zscore</th>\n",
              "    </tr>\n",
              "  </thead>\n",
              "  <tbody>\n",
              "    <tr>\n",
              "      <th>6031</th>\n",
              "      <td>Kaikondrahalli</td>\n",
              "      <td>3 BHK</td>\n",
              "      <td>1605.0</td>\n",
              "      <td>3.0</td>\n",
              "      <td>105.00</td>\n",
              "      <td>3</td>\n",
              "      <td>6542</td>\n",
              "      <td>-0.029378</td>\n",
              "    </tr>\n",
              "    <tr>\n",
              "      <th>12675</th>\n",
              "      <td>CV Raman Nagar</td>\n",
              "      <td>2 BHK</td>\n",
              "      <td>1227.0</td>\n",
              "      <td>2.0</td>\n",
              "      <td>42.88</td>\n",
              "      <td>2</td>\n",
              "      <td>3494</td>\n",
              "      <td>-0.765428</td>\n",
              "    </tr>\n",
              "    <tr>\n",
              "      <th>10356</th>\n",
              "      <td>Sarjapur  Road</td>\n",
              "      <td>2 BHK</td>\n",
              "      <td>970.0</td>\n",
              "      <td>2.0</td>\n",
              "      <td>36.00</td>\n",
              "      <td>2</td>\n",
              "      <td>3711</td>\n",
              "      <td>-0.713026</td>\n",
              "    </tr>\n",
              "    <tr>\n",
              "      <th>3743</th>\n",
              "      <td>Harlur</td>\n",
              "      <td>3 BHK</td>\n",
              "      <td>1758.0</td>\n",
              "      <td>3.0</td>\n",
              "      <td>133.00</td>\n",
              "      <td>3</td>\n",
              "      <td>7565</td>\n",
              "      <td>0.217663</td>\n",
              "    </tr>\n",
              "    <tr>\n",
              "      <th>16</th>\n",
              "      <td>Bisuvanahalli</td>\n",
              "      <td>3 BHK</td>\n",
              "      <td>1180.0</td>\n",
              "      <td>3.0</td>\n",
              "      <td>48.00</td>\n",
              "      <td>3</td>\n",
              "      <td>4067</td>\n",
              "      <td>-0.627056</td>\n",
              "    </tr>\n",
              "    <tr>\n",
              "      <th>4438</th>\n",
              "      <td>Ambalipura</td>\n",
              "      <td>2 BHK</td>\n",
              "      <td>896.0</td>\n",
              "      <td>2.0</td>\n",
              "      <td>30.13</td>\n",
              "      <td>2</td>\n",
              "      <td>3362</td>\n",
              "      <td>-0.797304</td>\n",
              "    </tr>\n",
              "    <tr>\n",
              "      <th>6799</th>\n",
              "      <td>Electronic City</td>\n",
              "      <td>2 BHK</td>\n",
              "      <td>1130.0</td>\n",
              "      <td>2.0</td>\n",
              "      <td>32.63</td>\n",
              "      <td>2</td>\n",
              "      <td>2887</td>\n",
              "      <td>-0.912010</td>\n",
              "    </tr>\n",
              "    <tr>\n",
              "      <th>4314</th>\n",
              "      <td>Hormavu</td>\n",
              "      <td>3 BHK</td>\n",
              "      <td>1453.0</td>\n",
              "      <td>2.0</td>\n",
              "      <td>43.58</td>\n",
              "      <td>3</td>\n",
              "      <td>2999</td>\n",
              "      <td>-0.884964</td>\n",
              "    </tr>\n",
              "    <tr>\n",
              "      <th>1668</th>\n",
              "      <td>Yelahanka</td>\n",
              "      <td>2 BHK</td>\n",
              "      <td>1150.0</td>\n",
              "      <td>2.0</td>\n",
              "      <td>46.00</td>\n",
              "      <td>2</td>\n",
              "      <td>4000</td>\n",
              "      <td>-0.643236</td>\n",
              "    </tr>\n",
              "    <tr>\n",
              "      <th>3911</th>\n",
              "      <td>Electronic City</td>\n",
              "      <td>3 BHK</td>\n",
              "      <td>1500.0</td>\n",
              "      <td>2.0</td>\n",
              "      <td>100.00</td>\n",
              "      <td>3</td>\n",
              "      <td>6666</td>\n",
              "      <td>0.000567</td>\n",
              "    </tr>\n",
              "  </tbody>\n",
              "</table>\n",
              "</div>\n",
              "      <button class=\"colab-df-convert\" onclick=\"convertToInteractive('df-1cc864d7-50bc-44b4-bdf9-3674e5b48f37')\"\n",
              "              title=\"Convert this dataframe to an interactive table.\"\n",
              "              style=\"display:none;\">\n",
              "        \n",
              "  <svg xmlns=\"http://www.w3.org/2000/svg\" height=\"24px\"viewBox=\"0 0 24 24\"\n",
              "       width=\"24px\">\n",
              "    <path d=\"M0 0h24v24H0V0z\" fill=\"none\"/>\n",
              "    <path d=\"M18.56 5.44l.94 2.06.94-2.06 2.06-.94-2.06-.94-.94-2.06-.94 2.06-2.06.94zm-11 1L8.5 8.5l.94-2.06 2.06-.94-2.06-.94L8.5 2.5l-.94 2.06-2.06.94zm10 10l.94 2.06.94-2.06 2.06-.94-2.06-.94-.94-2.06-.94 2.06-2.06.94z\"/><path d=\"M17.41 7.96l-1.37-1.37c-.4-.4-.92-.59-1.43-.59-.52 0-1.04.2-1.43.59L10.3 9.45l-7.72 7.72c-.78.78-.78 2.05 0 2.83L4 21.41c.39.39.9.59 1.41.59.51 0 1.02-.2 1.41-.59l7.78-7.78 2.81-2.81c.8-.78.8-2.07 0-2.86zM5.41 20L4 18.59l7.72-7.72 1.47 1.35L5.41 20z\"/>\n",
              "  </svg>\n",
              "      </button>\n",
              "      \n",
              "  <style>\n",
              "    .colab-df-container {\n",
              "      display:flex;\n",
              "      flex-wrap:wrap;\n",
              "      gap: 12px;\n",
              "    }\n",
              "\n",
              "    .colab-df-convert {\n",
              "      background-color: #E8F0FE;\n",
              "      border: none;\n",
              "      border-radius: 50%;\n",
              "      cursor: pointer;\n",
              "      display: none;\n",
              "      fill: #1967D2;\n",
              "      height: 32px;\n",
              "      padding: 0 0 0 0;\n",
              "      width: 32px;\n",
              "    }\n",
              "\n",
              "    .colab-df-convert:hover {\n",
              "      background-color: #E2EBFA;\n",
              "      box-shadow: 0px 1px 2px rgba(60, 64, 67, 0.3), 0px 1px 3px 1px rgba(60, 64, 67, 0.15);\n",
              "      fill: #174EA6;\n",
              "    }\n",
              "\n",
              "    [theme=dark] .colab-df-convert {\n",
              "      background-color: #3B4455;\n",
              "      fill: #D2E3FC;\n",
              "    }\n",
              "\n",
              "    [theme=dark] .colab-df-convert:hover {\n",
              "      background-color: #434B5C;\n",
              "      box-shadow: 0px 1px 3px 1px rgba(0, 0, 0, 0.15);\n",
              "      filter: drop-shadow(0px 1px 2px rgba(0, 0, 0, 0.3));\n",
              "      fill: #FFFFFF;\n",
              "    }\n",
              "  </style>\n",
              "\n",
              "      <script>\n",
              "        const buttonEl =\n",
              "          document.querySelector('#df-1cc864d7-50bc-44b4-bdf9-3674e5b48f37 button.colab-df-convert');\n",
              "        buttonEl.style.display =\n",
              "          google.colab.kernel.accessAllowed ? 'block' : 'none';\n",
              "\n",
              "        async function convertToInteractive(key) {\n",
              "          const element = document.querySelector('#df-1cc864d7-50bc-44b4-bdf9-3674e5b48f37');\n",
              "          const dataTable =\n",
              "            await google.colab.kernel.invokeFunction('convertToInteractive',\n",
              "                                                     [key], {});\n",
              "          if (!dataTable) return;\n",
              "\n",
              "          const docLinkHtml = 'Like what you see? Visit the ' +\n",
              "            '<a target=\"_blank\" href=https://colab.research.google.com/notebooks/data_table.ipynb>data table notebook</a>'\n",
              "            + ' to learn more about interactive tables.';\n",
              "          element.innerHTML = '';\n",
              "          dataTable['output_type'] = 'display_data';\n",
              "          await google.colab.output.renderOutput(dataTable, element);\n",
              "          const docLink = document.createElement('div');\n",
              "          docLink.innerHTML = docLinkHtml;\n",
              "          element.appendChild(docLink);\n",
              "        }\n",
              "      </script>\n",
              "    </div>\n",
              "  </div>\n",
              "  "
            ]
          },
          "metadata": {},
          "execution_count": 18
        }
      ],
      "source": [
        "df2['zscore'] = (df2.price_per_sqft-df2.price_per_sqft.mean())/df2.price_per_sqft.std()\n",
        "df2.sample(10)"
      ]
    },
    {
      "cell_type": "code",
      "execution_count": 19,
      "metadata": {
        "colab": {
          "base_uri": "https://localhost:8080/"
        },
        "id": "KPpD66NY6c4J",
        "outputId": "a9cd3db8-9af1-4232-da0e-ea289d8f3a95"
      },
      "outputs": [
        {
          "output_type": "execute_result",
          "data": {
            "text/plain": [
              "(125, 8)"
            ]
          },
          "metadata": {},
          "execution_count": 19
        }
      ],
      "source": [
        "outliers_z = df2[(df2.zscore < -4) | (df2.zscore>4)]\n",
        "outliers_z.shape"
      ]
    },
    {
      "cell_type": "code",
      "execution_count": 20,
      "metadata": {
        "colab": {
          "base_uri": "https://localhost:8080/",
          "height": 206
        },
        "id": "5_ErIAeC6c4K",
        "outputId": "51956a11-61fe-4fe0-8123-13c87f3531e5"
      },
      "outputs": [
        {
          "output_type": "execute_result",
          "data": {
            "text/plain": [
              "                    location       size  total_sqft  bath  price  bhk  \\\n",
              "1548             Uttarahalli  5 Bedroom      400.00   5.0  200.0    5   \n",
              "5315   Banashankari Stage II  4 Bedroom     1500.00   2.0  650.0    4   \n",
              "5639                   other      3 BHK     2777.29   5.0  650.0    3   \n",
              "12900          HAL 2nd Stage  5 Bedroom     2040.00   4.0  500.0    5   \n",
              "2618            Malleshwaram  7 Bedroom     3000.00   4.0  900.0    7   \n",
              "\n",
              "       price_per_sqft     zscore  \n",
              "1548            50000  10.465136  \n",
              "5315            43333   8.855147  \n",
              "5639            23404   4.042565  \n",
              "12900           24509   4.309408  \n",
              "2618            30000   5.635409  "
            ],
            "text/html": [
              "\n",
              "  <div id=\"df-0bdd6246-7bce-469d-8cb1-9413f176306d\">\n",
              "    <div class=\"colab-df-container\">\n",
              "      <div>\n",
              "<style scoped>\n",
              "    .dataframe tbody tr th:only-of-type {\n",
              "        vertical-align: middle;\n",
              "    }\n",
              "\n",
              "    .dataframe tbody tr th {\n",
              "        vertical-align: top;\n",
              "    }\n",
              "\n",
              "    .dataframe thead th {\n",
              "        text-align: right;\n",
              "    }\n",
              "</style>\n",
              "<table border=\"1\" class=\"dataframe\">\n",
              "  <thead>\n",
              "    <tr style=\"text-align: right;\">\n",
              "      <th></th>\n",
              "      <th>location</th>\n",
              "      <th>size</th>\n",
              "      <th>total_sqft</th>\n",
              "      <th>bath</th>\n",
              "      <th>price</th>\n",
              "      <th>bhk</th>\n",
              "      <th>price_per_sqft</th>\n",
              "      <th>zscore</th>\n",
              "    </tr>\n",
              "  </thead>\n",
              "  <tbody>\n",
              "    <tr>\n",
              "      <th>1548</th>\n",
              "      <td>Uttarahalli</td>\n",
              "      <td>5 Bedroom</td>\n",
              "      <td>400.00</td>\n",
              "      <td>5.0</td>\n",
              "      <td>200.0</td>\n",
              "      <td>5</td>\n",
              "      <td>50000</td>\n",
              "      <td>10.465136</td>\n",
              "    </tr>\n",
              "    <tr>\n",
              "      <th>5315</th>\n",
              "      <td>Banashankari Stage II</td>\n",
              "      <td>4 Bedroom</td>\n",
              "      <td>1500.00</td>\n",
              "      <td>2.0</td>\n",
              "      <td>650.0</td>\n",
              "      <td>4</td>\n",
              "      <td>43333</td>\n",
              "      <td>8.855147</td>\n",
              "    </tr>\n",
              "    <tr>\n",
              "      <th>5639</th>\n",
              "      <td>other</td>\n",
              "      <td>3 BHK</td>\n",
              "      <td>2777.29</td>\n",
              "      <td>5.0</td>\n",
              "      <td>650.0</td>\n",
              "      <td>3</td>\n",
              "      <td>23404</td>\n",
              "      <td>4.042565</td>\n",
              "    </tr>\n",
              "    <tr>\n",
              "      <th>12900</th>\n",
              "      <td>HAL 2nd Stage</td>\n",
              "      <td>5 Bedroom</td>\n",
              "      <td>2040.00</td>\n",
              "      <td>4.0</td>\n",
              "      <td>500.0</td>\n",
              "      <td>5</td>\n",
              "      <td>24509</td>\n",
              "      <td>4.309408</td>\n",
              "    </tr>\n",
              "    <tr>\n",
              "      <th>2618</th>\n",
              "      <td>Malleshwaram</td>\n",
              "      <td>7 Bedroom</td>\n",
              "      <td>3000.00</td>\n",
              "      <td>4.0</td>\n",
              "      <td>900.0</td>\n",
              "      <td>7</td>\n",
              "      <td>30000</td>\n",
              "      <td>5.635409</td>\n",
              "    </tr>\n",
              "  </tbody>\n",
              "</table>\n",
              "</div>\n",
              "      <button class=\"colab-df-convert\" onclick=\"convertToInteractive('df-0bdd6246-7bce-469d-8cb1-9413f176306d')\"\n",
              "              title=\"Convert this dataframe to an interactive table.\"\n",
              "              style=\"display:none;\">\n",
              "        \n",
              "  <svg xmlns=\"http://www.w3.org/2000/svg\" height=\"24px\"viewBox=\"0 0 24 24\"\n",
              "       width=\"24px\">\n",
              "    <path d=\"M0 0h24v24H0V0z\" fill=\"none\"/>\n",
              "    <path d=\"M18.56 5.44l.94 2.06.94-2.06 2.06-.94-2.06-.94-.94-2.06-.94 2.06-2.06.94zm-11 1L8.5 8.5l.94-2.06 2.06-.94-2.06-.94L8.5 2.5l-.94 2.06-2.06.94zm10 10l.94 2.06.94-2.06 2.06-.94-2.06-.94-.94-2.06-.94 2.06-2.06.94z\"/><path d=\"M17.41 7.96l-1.37-1.37c-.4-.4-.92-.59-1.43-.59-.52 0-1.04.2-1.43.59L10.3 9.45l-7.72 7.72c-.78.78-.78 2.05 0 2.83L4 21.41c.39.39.9.59 1.41.59.51 0 1.02-.2 1.41-.59l7.78-7.78 2.81-2.81c.8-.78.8-2.07 0-2.86zM5.41 20L4 18.59l7.72-7.72 1.47 1.35L5.41 20z\"/>\n",
              "  </svg>\n",
              "      </button>\n",
              "      \n",
              "  <style>\n",
              "    .colab-df-container {\n",
              "      display:flex;\n",
              "      flex-wrap:wrap;\n",
              "      gap: 12px;\n",
              "    }\n",
              "\n",
              "    .colab-df-convert {\n",
              "      background-color: #E8F0FE;\n",
              "      border: none;\n",
              "      border-radius: 50%;\n",
              "      cursor: pointer;\n",
              "      display: none;\n",
              "      fill: #1967D2;\n",
              "      height: 32px;\n",
              "      padding: 0 0 0 0;\n",
              "      width: 32px;\n",
              "    }\n",
              "\n",
              "    .colab-df-convert:hover {\n",
              "      background-color: #E2EBFA;\n",
              "      box-shadow: 0px 1px 2px rgba(60, 64, 67, 0.3), 0px 1px 3px 1px rgba(60, 64, 67, 0.15);\n",
              "      fill: #174EA6;\n",
              "    }\n",
              "\n",
              "    [theme=dark] .colab-df-convert {\n",
              "      background-color: #3B4455;\n",
              "      fill: #D2E3FC;\n",
              "    }\n",
              "\n",
              "    [theme=dark] .colab-df-convert:hover {\n",
              "      background-color: #434B5C;\n",
              "      box-shadow: 0px 1px 3px 1px rgba(0, 0, 0, 0.15);\n",
              "      filter: drop-shadow(0px 1px 2px rgba(0, 0, 0, 0.3));\n",
              "      fill: #FFFFFF;\n",
              "    }\n",
              "  </style>\n",
              "\n",
              "      <script>\n",
              "        const buttonEl =\n",
              "          document.querySelector('#df-0bdd6246-7bce-469d-8cb1-9413f176306d button.colab-df-convert');\n",
              "        buttonEl.style.display =\n",
              "          google.colab.kernel.accessAllowed ? 'block' : 'none';\n",
              "\n",
              "        async function convertToInteractive(key) {\n",
              "          const element = document.querySelector('#df-0bdd6246-7bce-469d-8cb1-9413f176306d');\n",
              "          const dataTable =\n",
              "            await google.colab.kernel.invokeFunction('convertToInteractive',\n",
              "                                                     [key], {});\n",
              "          if (!dataTable) return;\n",
              "\n",
              "          const docLinkHtml = 'Like what you see? Visit the ' +\n",
              "            '<a target=\"_blank\" href=https://colab.research.google.com/notebooks/data_table.ipynb>data table notebook</a>'\n",
              "            + ' to learn more about interactive tables.';\n",
              "          element.innerHTML = '';\n",
              "          dataTable['output_type'] = 'display_data';\n",
              "          await google.colab.output.renderOutput(dataTable, element);\n",
              "          const docLink = document.createElement('div');\n",
              "          docLink.innerHTML = docLinkHtml;\n",
              "          element.appendChild(docLink);\n",
              "        }\n",
              "      </script>\n",
              "    </div>\n",
              "  </div>\n",
              "  "
            ]
          },
          "metadata": {},
          "execution_count": 20
        }
      ],
      "source": [
        "outliers_z.sample(5)"
      ]
    },
    {
      "cell_type": "code",
      "execution_count": 21,
      "metadata": {
        "colab": {
          "base_uri": "https://localhost:8080/"
        },
        "id": "BtwVgxo06c4K",
        "outputId": "9755bbee-9c49-4b73-f122-e47e22d927a0"
      },
      "outputs": [
        {
          "output_type": "execute_result",
          "data": {
            "text/plain": [
              "(13047, 8)"
            ]
          },
          "metadata": {},
          "execution_count": 21
        }
      ],
      "source": [
        "df4 = df2[(df2.zscore>-4)&(df2.zscore<4)]\n",
        "df4.shape"
      ]
    },
    {
      "cell_type": "code",
      "execution_count": 22,
      "metadata": {
        "colab": {
          "base_uri": "https://localhost:8080/"
        },
        "id": "2A7x4Tt-6c4K",
        "outputId": "0e3833af-818c-421a-910d-a9a30aa5bf89"
      },
      "outputs": [
        {
          "output_type": "execute_result",
          "data": {
            "text/plain": [
              "125"
            ]
          },
          "metadata": {},
          "execution_count": 22
        }
      ],
      "source": [
        "df2.shape[0] - df4.shape[0]"
      ]
    },
    {
      "cell_type": "markdown",
      "metadata": {
        "id": "ziSDdWkN6c4L"
      },
      "source": [
        "In this step also we removed 125 outliers. The result would be exactly same as 4 standard deviation"
      ]
    }
  ],
  "metadata": {
    "kernelspec": {
      "display_name": "Python 3",
      "language": "python",
      "name": "python3"
    },
    "language_info": {
      "codemirror_mode": {
        "name": "ipython",
        "version": 3
      },
      "file_extension": ".py",
      "mimetype": "text/x-python",
      "name": "python",
      "nbconvert_exporter": "python",
      "pygments_lexer": "ipython3",
      "version": "3.7.3"
    },
    "colab": {
      "provenance": [],
      "collapsed_sections": [],
      "include_colab_link": true
    }
  },
  "nbformat": 4,
  "nbformat_minor": 0
}